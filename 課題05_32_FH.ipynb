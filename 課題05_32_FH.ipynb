{
  "cells": [
    {
      "cell_type": "markdown",
      "metadata": {
        "id": "view-in-github",
        "colab_type": "text"
      },
      "source": [
        "<a href=\"https://colab.research.google.com/github/haya28/kadai5/blob/main/%E8%AA%B2%E9%A1%8C05_32_FH.ipynb\" target=\"_parent\"><img src=\"https://colab.research.google.com/assets/colab-badge.svg\" alt=\"Open In Colab\"/></a>"
      ]
    },
    {
      "cell_type": "markdown",
      "metadata": {
        "id": "BNb7I1FCMlFJ"
      },
      "source": [
        "# **プログラムの名称**\n",
        "簡易版クイズレット\n",
        "## **概要**\n",
        "\n",
        "クイズレットのように自分で問題を作成し、それをランダムで出し、答えることのできるプログラム。\n",
        "\n",
        "## **操作方法**\n",
        "メニュー画面で\n",
        "問題を作成する。\n",
        "問題を出題する。\n",
        "終了。\n",
        "の３つの中から選び入力する。\n",
        "## **制作者のコメント**\n",
        "\n",
        "やっていることは簡単なので、いかにプログラムを短くするかを意識した。\n",
        "かなり拡張ができるので新しい知識が増えるごとに進めていきたい。\n",
        "\n",
        "## **作成時間**\n",
        "\n",
        "作成時間：**約１５時間**"
      ]
    },
    {
      "cell_type": "code",
      "execution_count": null,
      "metadata": {
        "id": "NGuL7doEPtzI"
      },
      "outputs": [],
      "source": [
        "#@title 初期化 ( %reset -f )\n",
        "%reset -f"
      ]
    },
    {
      "cell_type": "code",
      "execution_count": null,
      "metadata": {
        "id": "mrFGdchoP2dL"
      },
      "outputs": [],
      "source": [
        "#@title サブ処理\n",
        "# 各種ライブラリのインポート\n",
        "# データやパラメータ設定\n",
        "# 関数やクラスなどの定義\n",
        "\n",
        "import random\n",
        "\n",
        "# 問題を収納するリスト\n",
        "questions_and_answers = []\n",
        "\n",
        "# 問題と答えを入力してリストに追加する関数\n",
        "def add_question_and_answer():\n",
        "    question = input(\"問題を入力してください: \")\n",
        "    answer = input(\"答えを入力してください: \")\n",
        "    questions_and_answers.append((question, answer))"
      ]
    },
    {
      "cell_type": "code",
      "execution_count": null,
      "metadata": {
        "colab": {
          "background_save": true,
          "base_uri": "https://localhost:8080/"
        },
        "id": "3hbrnlgjPcf4",
        "outputId": "f341136d-1dea-48c3-8cbf-3ca133c74228"
      },
      "outputs": [
        {
          "name": "stdout",
          "output_type": "stream",
          "text": [
            "メニュー:\n",
            "1. 問題を作成\n",
            "2. 問題を出題\n",
            "3. 終了\n",
            "メニュー:\n",
            "1. 問題を作成\n",
            "2. 問題を出題\n",
            "3. 終了\n",
            "不正解です。正解は: ２\n",
            "メニュー:\n",
            "1. 問題を作成\n",
            "2. 問題を出題\n",
            "3. 終了\n"
          ]
        }
      ],
      "source": [
        "#@title メイン処理\n",
        "\n",
        "# メインのプログラム\n",
        "while True:\n",
        "    print(\"メニュー:\")\n",
        "    print(\"1. 問題を作成\")\n",
        "    print(\"2. 問題を出題\")\n",
        "    print(\"3. 終了\")\n",
        "\n",
        "    choice = input(\"選択肢を入力してください (1/2/3): \")\n",
        "\n",
        "    if choice == \"1\":\n",
        "        add_question_and_answer()\n",
        "    elif choice == \"2\":\n",
        "        if not questions_and_answers:\n",
        "            print(\"まだ問題がありません。問題を追加してください。\")\n",
        "        else:\n",
        "            question, answer = random.choice(questions_and_answers)\n",
        "            user_answer = input(f\"問題: {question}\\nあなたの答え: \")\n",
        "            if user_answer == answer:\n",
        "                print(\"正解です！\")\n",
        "            else:\n",
        "                print(f\"不正解です。正解は: {answer}\")\n",
        "    elif choice == \"3\":\n",
        "        break\n",
        "    else:\n",
        "        print(\"無効な選択です。有効な選択肢を入力してください。\")\n",
        "\n",
        "print(\"プログラムを終了します。\")"
      ]
    }
  ],
  "metadata": {
    "colab": {
      "provenance": [],
      "include_colab_link": true
    },
    "kernelspec": {
      "display_name": "Python 3",
      "name": "python3"
    },
    "language_info": {
      "name": "python"
    }
  },
  "nbformat": 4,
  "nbformat_minor": 0
}